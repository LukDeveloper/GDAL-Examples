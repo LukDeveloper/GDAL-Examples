{
 "cells": [
  {
   "cell_type": "code",
   "execution_count": 1,
   "id": "46291596",
   "metadata": {},
   "outputs": [],
   "source": [
    "from osgeo import gdal \n",
    "from osgeo import gdal_array\n",
    "import numpy as np"
   ]
  },
  {
   "cell_type": "code",
   "execution_count": 2,
   "id": "647901c4",
   "metadata": {},
   "outputs": [
    {
     "data": {
      "text/plain": [
       "osgeo.gdal.Dataset"
      ]
     },
     "execution_count": 2,
     "metadata": {},
     "output_type": "execute_result"
    }
   ],
   "source": [
    "#Definindo o caminho para o arquivo .tif\n",
    "filepath = \"lamina_A010050_20220810T211048.tif\"  \n",
    "\n",
    "# Abrindo o arquivo:\n",
    "raster = gdal.Open(filepath)\n",
    "\n",
    "# Checando o tipo da variável Raster'\n",
    "type(raster)"
   ]
  },
  {
   "cell_type": "code",
   "execution_count": 3,
   "id": "66bf2c33",
   "metadata": {},
   "outputs": [
    {
     "name": "stdout",
     "output_type": "stream",
     "text": [
      "PROJCS[\"WGS 84 / UTM zone 21S\",GEOGCS[\"WGS 84\",DATUM[\"WGS_1984\",SPHEROID[\"WGS 84\",6378137,298.257223563,AUTHORITY[\"EPSG\",\"7030\"]],AUTHORITY[\"EPSG\",\"6326\"]],PRIMEM[\"Greenwich\",0,AUTHORITY[\"EPSG\",\"8901\"]],UNIT[\"degree\",0.0174532925199433,AUTHORITY[\"EPSG\",\"9122\"]],AUTHORITY[\"EPSG\",\"4326\"]],PROJECTION[\"Transverse_Mercator\"],PARAMETER[\"latitude_of_origin\",0],PARAMETER[\"central_meridian\",-57],PARAMETER[\"scale_factor\",0.9996],PARAMETER[\"false_easting\",500000],PARAMETER[\"false_northing\",10000000],UNIT[\"metre\",1,AUTHORITY[\"EPSG\",\"9001\"]],AXIS[\"Easting\",EAST],AXIS[\"Northing\",NORTH],AUTHORITY[\"EPSG\",\"32721\"]]\n",
      " \n",
      "24830\n",
      "24825\n",
      " \n",
      "1\n",
      " \n",
      "{'AREA_OR_POINT': 'Area'}\n",
      " \n"
     ]
    }
   ],
   "source": [
    "# Projeção\n",
    "print(raster.GetProjection())\n",
    "print(\" \")\n",
    "\n",
    "# Dimensões\n",
    "print(raster.RasterXSize)\n",
    "print(raster.RasterYSize)\n",
    "print(\" \")\n",
    "\n",
    "# Numero de bandas\n",
    "print(raster.RasterCount)\n",
    "print(\" \")\n",
    "\n",
    "# Metadados do arquivo raster\n",
    "print(raster.GetMetadata())\n",
    "print(\" \")"
   ]
  },
  {
   "cell_type": "code",
   "execution_count": 4,
   "id": "7e8b8e89",
   "metadata": {},
   "outputs": [],
   "source": [
    "#Lendo como uma matriz numerica\n",
    "data = raster.ReadAsArray() \n",
    "\n",
    "#Isso servirá para definir as lats e lons\n",
    "x0, dx, dxdy, y0, dydx, dy = raster.GetGeoTransform() \n",
    "\n",
    "#Obtendo o numero de linhas e colunas da matriz\n",
    "nrows, ncols = data.shape "
   ]
  },
  {
   "cell_type": "code",
   "execution_count": 5,
   "id": "1be581f6",
   "metadata": {},
   "outputs": [
    {
     "name": "stdout",
     "output_type": "stream",
     "text": [
      "(24825,) (24830,)\n"
     ]
    }
   ],
   "source": [
    "# Gerando arrays para longitude e latitude\n",
    "londata = np.linspace(x0, x0+dx*ncols, ncols)\n",
    "latdata = np.linspace(y0, y0+dy*nrows, nrows)\n",
    "\n",
    "lon, lat = np.meshgrid(londata, latdata) # Fazendo um grid de lat e lon para os dados de elevação\n",
    "\n",
    "print(latdata.shape, londata.shape) "
   ]
  },
  {
   "cell_type": "code",
   "execution_count": 6,
   "id": "5971deb8",
   "metadata": {},
   "outputs": [],
   "source": [
    "# Importando os módulos necessários para a plotagem\n",
    "import matplotlib.pyplot as plt\n",
    "import matplotlib.ticker as mticker\n",
    "\n",
    "import cartopy.crs as ccrs\n",
    "import cartopy.feature as cfeature\n",
    "from cartopy.mpl.gridliner import LATITUDE_FORMATTER, LONGITUDE_FORMATTER"
   ]
  },
  {
   "cell_type": "code",
   "execution_count": 7,
   "id": "3611093b",
   "metadata": {},
   "outputs": [
    {
     "ename": "ValueError",
     "evalue": "Failed to determine the required bounds in projection coordinates. Check that the values provided are within the valid range (x_limits=(-180, 180), y_limits=(-90, 90)).",
     "output_type": "error",
     "traceback": [
      "\u001b[1;31m---------------------------------------------------------------------------\u001b[0m",
      "\u001b[1;31mValueError\u001b[0m                                Traceback (most recent call last)",
      "File \u001b[1;32m~\\anaconda3\\envs\\pygdal\\lib\\site-packages\\cartopy\\mpl\\geoaxes.py:865\u001b[0m, in \u001b[0;36mGeoAxes.set_extent\u001b[1;34m(self, extents, crs)\u001b[0m\n\u001b[0;32m    861\u001b[0m \u001b[38;5;28;01mtry\u001b[39;00m:\n\u001b[0;32m    862\u001b[0m     \u001b[38;5;66;03m# This might fail with an unhelpful error message ('need more\u001b[39;00m\n\u001b[0;32m    863\u001b[0m     \u001b[38;5;66;03m# than 0 values to unpack') if the specified extents fall outside\u001b[39;00m\n\u001b[0;32m    864\u001b[0m     \u001b[38;5;66;03m# the projection extents, so try and give a better error message.\u001b[39;00m\n\u001b[1;32m--> 865\u001b[0m     x1, y1, x2, y2 \u001b[38;5;241m=\u001b[39m projected\u001b[38;5;241m.\u001b[39mbounds\n\u001b[0;32m    866\u001b[0m \u001b[38;5;28;01mexcept\u001b[39;00m \u001b[38;5;167;01mValueError\u001b[39;00m:\n",
      "\u001b[1;31mValueError\u001b[0m: not enough values to unpack (expected 4, got 0)",
      "\nDuring handling of the above exception, another exception occurred:\n",
      "\u001b[1;31mValueError\u001b[0m                                Traceback (most recent call last)",
      "Input \u001b[1;32mIn [7]\u001b[0m, in \u001b[0;36m<cell line: 9>\u001b[1;34m()\u001b[0m\n\u001b[0;32m      7\u001b[0m \u001b[38;5;66;03m#Definindo a extensão do mapa\u001b[39;00m\n\u001b[0;32m      8\u001b[0m extent \u001b[38;5;241m=\u001b[39m [londata\u001b[38;5;241m.\u001b[39mmin(), londata\u001b[38;5;241m.\u001b[39mmax(), latdata\u001b[38;5;241m.\u001b[39mmax(), latdata\u001b[38;5;241m.\u001b[39mmin()] \n\u001b[1;32m----> 9\u001b[0m \u001b[43max\u001b[49m\u001b[38;5;241;43m.\u001b[39;49m\u001b[43mset_extent\u001b[49m\u001b[43m(\u001b[49m\u001b[43mextent\u001b[49m\u001b[43m)\u001b[49m \u001b[38;5;66;03m# Definindo a extensão do mapa\u001b[39;00m\n\u001b[0;32m     11\u001b[0m \u001b[38;5;66;03m#================================================================================================\u001b[39;00m\n\u001b[0;32m     12\u001b[0m \u001b[38;5;66;03m#Criando o mapa de elevação, com cores a cada intervalo de 100 metros\u001b[39;00m\n\u001b[0;32m     13\u001b[0m im \u001b[38;5;241m=\u001b[39m ax\u001b[38;5;241m.\u001b[39mcontourf(lon, lat, data, cmap \u001b[38;5;241m=\u001b[39m \u001b[38;5;124m\"\u001b[39m\u001b[38;5;124mterrain\u001b[39m\u001b[38;5;124m\"\u001b[39m, \n\u001b[0;32m     14\u001b[0m                  levels \u001b[38;5;241m=\u001b[39m np\u001b[38;5;241m.\u001b[39marange(data\u001b[38;5;241m.\u001b[39mmin(), data\u001b[38;5;241m.\u001b[39mmax(), \u001b[38;5;241m100\u001b[39m), vmin\u001b[38;5;241m=\u001b[39m\u001b[38;5;241m-\u001b[39m\u001b[38;5;241m300\u001b[39m)\n",
      "File \u001b[1;32m~\\anaconda3\\envs\\pygdal\\lib\\site-packages\\cartopy\\mpl\\geoaxes.py:867\u001b[0m, in \u001b[0;36mGeoAxes.set_extent\u001b[1;34m(self, extents, crs)\u001b[0m\n\u001b[0;32m    865\u001b[0m     x1, y1, x2, y2 \u001b[38;5;241m=\u001b[39m projected\u001b[38;5;241m.\u001b[39mbounds\n\u001b[0;32m    866\u001b[0m \u001b[38;5;28;01mexcept\u001b[39;00m \u001b[38;5;167;01mValueError\u001b[39;00m:\n\u001b[1;32m--> 867\u001b[0m     \u001b[38;5;28;01mraise\u001b[39;00m \u001b[38;5;167;01mValueError\u001b[39;00m(\n\u001b[0;32m    868\u001b[0m         \u001b[38;5;124m'\u001b[39m\u001b[38;5;124mFailed to determine the required bounds in projection \u001b[39m\u001b[38;5;124m'\u001b[39m\n\u001b[0;32m    869\u001b[0m         \u001b[38;5;124m'\u001b[39m\u001b[38;5;124mcoordinates. Check that the values provided are within the \u001b[39m\u001b[38;5;124m'\u001b[39m\n\u001b[0;32m    870\u001b[0m         \u001b[38;5;124mf\u001b[39m\u001b[38;5;124m'\u001b[39m\u001b[38;5;124mvalid range (x_limits=\u001b[39m\u001b[38;5;132;01m{\u001b[39;00m\u001b[38;5;28mself\u001b[39m\u001b[38;5;241m.\u001b[39mprojection\u001b[38;5;241m.\u001b[39mx_limits\u001b[38;5;132;01m}\u001b[39;00m\u001b[38;5;124m, \u001b[39m\u001b[38;5;124m'\u001b[39m\n\u001b[0;32m    871\u001b[0m         \u001b[38;5;124mf\u001b[39m\u001b[38;5;124m'\u001b[39m\u001b[38;5;124my_limits=\u001b[39m\u001b[38;5;132;01m{\u001b[39;00m\u001b[38;5;28mself\u001b[39m\u001b[38;5;241m.\u001b[39mprojection\u001b[38;5;241m.\u001b[39my_limits\u001b[38;5;132;01m}\u001b[39;00m\u001b[38;5;124m).\u001b[39m\u001b[38;5;124m'\u001b[39m)\n\u001b[0;32m    873\u001b[0m \u001b[38;5;28mself\u001b[39m\u001b[38;5;241m.\u001b[39mset_xlim([x1, x2])\n\u001b[0;32m    874\u001b[0m \u001b[38;5;28mself\u001b[39m\u001b[38;5;241m.\u001b[39mset_ylim([y1, y2])\n",
      "\u001b[1;31mValueError\u001b[0m: Failed to determine the required bounds in projection coordinates. Check that the values provided are within the valid range (x_limits=(-180, 180), y_limits=(-90, 90))."
     ]
    },
    {
     "data": {
      "image/png": "[encoded data removed]",
      "text/plain": [
       "<Figure size 900x900 with 1 Axes>"
      ]
     },
     "metadata": {},
     "output_type": "display_data"
    }
   ],
   "source": [
    "#Criando um objeto de figura\n",
    "fig = plt.figure(figsize=(9, 9)) \n",
    "\n",
    "#Adicionando um eixo e definindo a projeção (geoeixo)\n",
    "ax = fig.add_subplot(111, projection=ccrs.PlateCarree()) \n",
    "\n",
    "#Definindo a extensão do mapa\n",
    "extent = [londata.min(), londata.max(), latdata.max(), latdata.min()] \n",
    "ax.set_extent(extent) # Definindo a extensão do mapa\n",
    "\n",
    "#================================================================================================\n",
    "#Criando o mapa de elevação, com cores a cada intervalo de 100 metros\n",
    "im = ax.contourf(lon, lat, data, cmap = \"terrain\", \n",
    "                 levels = np.arange(data.min(), data.max(), 100), vmin=-300)\n",
    "\n",
    "#================================================================================================\n",
    "#Adicionando barra de cor\n",
    "cbar = plt.colorbar(im, ax=ax, ticks=np.arange(data.min(), data.max()+100, 100), fraction=0.035, pad=0.05)\n",
    "cbar.set_label('Elevação (m)',size=18) #legenda da colorbar \n",
    "cbar.ax.tick_params(labelsize=13) # tamanho da legenda dos ticks\n",
    "\n",
    "#================================================================================================\n",
    "# Adicionando título \n",
    "ax.set_title(\"Elevação [m]\",fontsize=20, y=1.01)\n",
    "\n",
    "#================================================================================================\n",
    "# Adicionando legenda e grid dos eixos\n",
    "gl = ax.gridlines(crs=ccrs.PlateCarree(), draw_labels=True,\n",
    "                  linewidth=2, color='gray', alpha=0.5, linestyle='--')\n",
    "\n",
    "#Definindo a localização dos ticks dos eixos x e y\n",
    "gl.ylocator = mticker.FixedLocator(np.arange(-25, -19, 0.2))\n",
    "gl.xlocator = mticker.FixedLocator(np.arange(-44.0, -42, 0.2))\n",
    "\n",
    "#Formatndo os labels dos ticks como latitude e longitude (°)\n",
    "gl.yformatter = LATITUDE_FORMATTER\n",
    "gl.xformatter = LONGITUDE_FORMATTER\n",
    "\n",
    "#Removendo os labels do topo e da direita\n",
    "gl.xlabels_top = False\n",
    "gl.ylabels_right = False\n",
    "\n",
    "#Redefinindo o tamanho da fontedos labels dos ticks\n",
    "gl.xlabel_style = {'size': 12, 'color': 'black', 'weight': 'normal'}\n",
    "gl.ylabel_style = {'size': 12,'color': 'black', 'weight': 'normal'}\n",
    "\n",
    "#Salvando a figure\n",
    "plt.savefig(\"Elevation_SRTM.png\", dp1=300, bbox_inches='tight')"
   ]
  },
  {
   "cell_type": "code",
   "execution_count": null,
   "id": "12860204",
   "metadata": {},
   "outputs": [],
   "source": []
  }
 ],
 "metadata": {
  "kernelspec": {
   "display_name": "Python 3 (ipykernel)",
   "language": "python",
   "name": "python3"
  },
  "language_info": {
   "codemirror_mode": {
    "name": "ipython",
    "version": 3
   },
   "file_extension": ".py",
   "mimetype": "text/x-python",
   "name": "python",
   "nbconvert_exporter": "python",
   "pygments_lexer": "ipython3",
   "version": "3.10.6"
  }
 },
 "nbformat": 4,
 "nbformat_minor": 5
}

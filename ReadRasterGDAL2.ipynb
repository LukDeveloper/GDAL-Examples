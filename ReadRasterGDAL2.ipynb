{
 "cells": [
  {
   "cell_type": "code",
   "execution_count": 1,
   "id": "57ca3429",
   "metadata": {},
   "outputs": [],
   "source": [
    "from osgeo import gdal\n",
    "import matplotlib.pyplot as plt\n",
    "import numpy as np\n",
    "from pathlib import Path\n",
    "import os\n",
    "from osgeo import osr\n",
    "import math"
   ]
  },
  {
   "cell_type": "code",
   "execution_count": 18,
   "id": "feb2d668",
   "metadata": {},
   "outputs": [
    {
     "data": {
      "text/plain": [
       "<osgeo.gdal.Dataset; proxy of <Swig Object of type 'GDALDatasetShadow *' at 0x000001ECAD86D230> >"
      ]
     },
     "execution_count": 18,
     "metadata": {},
     "output_type": "execute_result"
    }
   ],
   "source": [
    "ds = gdal.Open(\"lamina_A010050_20220810T211048.tif\")\n",
    "ds"
   ]
  },
  {
   "cell_type": "code",
   "execution_count": 3,
   "id": "bc43fad8",
   "metadata": {},
   "outputs": [
    {
     "name": "stdout",
     "output_type": "stream",
     "text": [
      "File list: ['lamina_A010050_20220810T211048.tif']\n"
     ]
    }
   ],
   "source": [
    "print('File list:', ds.GetFileList())"
   ]
  },
  {
   "cell_type": "code",
   "execution_count": 4,
   "id": "ae2fdbae",
   "metadata": {},
   "outputs": [
    {
     "name": "stdout",
     "output_type": "stream",
     "text": [
      "Width: 24830\n",
      "Height: 24825\n"
     ]
    }
   ],
   "source": [
    "print('Width:', ds.RasterXSize)\n",
    "print('Height:', ds.RasterYSize)"
   ]
  },
  {
   "cell_type": "code",
   "execution_count": 5,
   "id": "a8fca72b",
   "metadata": {},
   "outputs": [
    {
     "name": "stdout",
     "output_type": "stream",
     "text": [
      "Coordinate system: PROJCS[\"WGS 84 / UTM zone 21S\",GEOGCS[\"WGS 84\",DATUM[\"WGS_1984\",SPHEROID[\"WGS 84\",6378137,298.257223563,AUTHORITY[\"EPSG\",\"7030\"]],AUTHORITY[\"EPSG\",\"6326\"]],PRIMEM[\"Greenwich\",0,AUTHORITY[\"EPSG\",\"8901\"]],UNIT[\"degree\",0.0174532925199433,AUTHORITY[\"EPSG\",\"9122\"]],AUTHORITY[\"EPSG\",\"4326\"]],PROJECTION[\"Transverse_Mercator\"],PARAMETER[\"latitude_of_origin\",0],PARAMETER[\"central_meridian\",-57],PARAMETER[\"scale_factor\",0.9996],PARAMETER[\"false_easting\",500000],PARAMETER[\"false_northing\",10000000],UNIT[\"metre\",1,AUTHORITY[\"EPSG\",\"9001\"]],AXIS[\"Easting\",EAST],AXIS[\"Northing\",NORTH],AUTHORITY[\"EPSG\",\"32721\"]]\n"
     ]
    }
   ],
   "source": [
    "print('Coordinate system:', ds.GetProjection())"
   ]
  },
  {
   "cell_type": "code",
   "execution_count": 6,
   "id": "915c98ac",
   "metadata": {},
   "outputs": [
    {
     "data": {
      "text/plain": [
       "(823180.0, 5.034504508079338, 0.0, 9773375.657077534, 0.0, -5.035523265778328)"
      ]
     },
     "execution_count": 6,
     "metadata": {},
     "output_type": "execute_result"
    }
   ],
   "source": [
    "gt = ds.GetGeoTransform()\n",
    "gt"
   ]
  },
  {
   "cell_type": "code",
   "execution_count": 9,
   "id": "724ffb5d",
   "metadata": {},
   "outputs": [
    {
     "name": "stdout",
     "output_type": "stream",
     "text": [
      "Origin: (823180.0, 9773375.657077534)\n",
      "Pixel size: (5.034504508079338, -5.035523265778328)\n"
     ]
    }
   ],
   "source": [
    "print('Origin:', (gt[0], gt[3]))\n",
    "print('Pixel size:', (gt[1], gt[5]))"
   ]
  },
  {
   "cell_type": "code",
   "execution_count": 10,
   "id": "23da6079",
   "metadata": {},
   "outputs": [
    {
     "name": "stdout",
     "output_type": "stream",
     "text": [
      "Upper Left Corner: [823180.0, 9773375.657077534]\n",
      "Upper Right Corner: [948186.74693561, 9773375.657077534]\n",
      "Lower Left Corner: [823180.0, 9648368.792004587]\n",
      "Lower Right Corner: [948186.74693561, 9648368.792004587]\n",
      "Center: [885683.373467805, 9710872.22454106]\n"
     ]
    }
   ],
   "source": [
    "print('Upper Left Corner:', gdal.ApplyGeoTransform(gt,0,0))\n",
    "print('Upper Right Corner:', gdal.ApplyGeoTransform(gt,ds.RasterXSize,0))\n",
    "print('Lower Left Corner:', gdal.ApplyGeoTransform(gt,0,ds.RasterYSize))\n",
    "print('Lower Right Corner:', gdal.ApplyGeoTransform(gt,ds.RasterXSize,ds.RasterYSize))\n",
    "print('Center:', gdal.ApplyGeoTransform(gt,ds.RasterXSize/2,ds.RasterYSize/2))"
   ]
  },
  {
   "cell_type": "code",
   "execution_count": 11,
   "id": "3e90d0ea",
   "metadata": {},
   "outputs": [
    {
     "name": "stdout",
     "output_type": "stream",
     "text": [
      "Metadata: {'AREA_OR_POINT': 'Area'}\n"
     ]
    }
   ],
   "source": [
    "print('Metadata:', ds.GetMetadata())"
   ]
  },
  {
   "cell_type": "code",
   "execution_count": 12,
   "id": "38406ceb",
   "metadata": {},
   "outputs": [
    {
     "name": "stdout",
     "output_type": "stream",
     "text": [
      "Image Structure Metadata: {'COMPRESSION': 'LZW', 'INTERLEAVE': 'BAND'}\n"
     ]
    }
   ],
   "source": [
    "print('Image Structure Metadata:', ds.GetMetadata('IMAGE_STRUCTURE'))"
   ]
  },
  {
   "cell_type": "code",
   "execution_count": 13,
   "id": "c2aaa00e",
   "metadata": {},
   "outputs": [
    {
     "name": "stdout",
     "output_type": "stream",
     "text": [
      "Number of Bands: 1\n"
     ]
    }
   ],
   "source": [
    "print('Number of Bands:', ds.RasterCount)"
   ]
  },
  {
   "cell_type": "code",
   "execution_count": 16,
   "id": "ffc2de0c",
   "metadata": {},
   "outputs": [
    {
     "name": "stdout",
     "output_type": "stream",
     "text": [
      "Band 1, block size 512 512, color interp Gray\n"
     ]
    }
   ],
   "source": [
    "for i in range(1, ds.RasterCount+1):\n",
    "        band = ds.GetRasterBand(i) #in GDAL, band are indexed starting at 1!\n",
    "        interp = band.GetColorInterpretation()\n",
    "        interp_name = gdal.GetColorInterpretationName(interp)\n",
    "        (w,h)=band.GetBlockSize()\n",
    "        print('Band {0:d}, block size {1:d} {2:d}, color interp {3:s}'.format(i,w,h,interp_name))\n",
    "        ovr_count = band.GetOverviewCount()\n",
    "        for j in range(ovr_count):\n",
    "                ovr_band = band.GetOverview(j) #but overview bands starting at 0\n",
    "                print(' Overview %d: %dx%d'%(j, over_band.XSize, ovr_band.YSize))"
   ]
  },
  {
   "cell_type": "code",
   "execution_count": 14,
   "id": "3995d129",
   "metadata": {},
   "outputs": [
    {
     "name": "stdout",
     "output_type": "stream",
     "text": [
      "Driver: GTiff/GeoTIFF\n",
      "Files: lamina_A010050_20220810T211048.tif\n",
      "Size is 24830, 24825\n",
      "Coordinate System is:\n",
      "PROJCRS[\"WGS 84 / UTM zone 21S\",\n",
      "    BASEGEOGCRS[\"WGS 84\",\n",
      "        DATUM[\"World Geodetic System 1984\",\n",
      "            ELLIPSOID[\"WGS 84\",6378137,298.257223563,\n",
      "                LENGTHUNIT[\"metre\",1]]],\n",
      "        PRIMEM[\"Greenwich\",0,\n",
      "            ANGLEUNIT[\"degree\",0.0174532925199433]],\n",
      "        ID[\"EPSG\",4326]],\n",
      "    CONVERSION[\"UTM zone 21S\",\n",
      "        METHOD[\"Transverse Mercator\",\n",
      "            ID[\"EPSG\",9807]],\n",
      "        PARAMETER[\"Latitude of natural origin\",0,\n",
      "            ANGLEUNIT[\"degree\",0.0174532925199433],\n",
      "            ID[\"EPSG\",8801]],\n",
      "        PARAMETER[\"Longitude of natural origin\",-57,\n",
      "            ANGLEUNIT[\"degree\",0.0174532925199433],\n",
      "            ID[\"EPSG\",8802]],\n",
      "        PARAMETER[\"Scale factor at natural origin\",0.9996,\n",
      "            SCALEUNIT[\"unity\",1],\n",
      "            ID[\"EPSG\",8805]],\n",
      "        PARAMETER[\"False easting\",500000,\n",
      "            LENGTHUNIT[\"metre\",1],\n",
      "            ID[\"EPSG\",8806]],\n",
      "        PARAMETER[\"False northing\",10000000,\n",
      "            LENGTHUNIT[\"metre\",1],\n",
      "            ID[\"EPSG\",8807]]],\n",
      "    CS[Cartesian,2],\n",
      "        AXIS[\"(E)\",east,\n",
      "            ORDER[1],\n",
      "            LENGTHUNIT[\"metre\",1]],\n",
      "        AXIS[\"(N)\",north,\n",
      "            ORDER[2],\n",
      "            LENGTHUNIT[\"metre\",1]],\n",
      "    USAGE[\n",
      "        SCOPE[\"Engineering survey, topographic mapping.\"],\n",
      "        AREA[\"Between 60Â°W and 54Â°W, southern hemisphere between 80Â°S and equator, onshore and offshore. Argentina. Bolivia. Brazil. Falkland Islands (Malvinas). Paraguay. Uruguay.\"],\n",
      "        BBOX[-80,-60,0,-54]],\n",
      "    ID[\"EPSG\",32721]]\n",
      "Data axis to CRS axis mapping: 1,2\n",
      "Origin = (823180.000000000000000,9773375.657077534124255)\n",
      "Pixel Size = (5.034504508079338,-5.035523265778328)\n",
      "Metadata:\n",
      "  AREA_OR_POINT=Area\n",
      "Image Structure Metadata:\n",
      "  COMPRESSION=LZW\n",
      "  INTERLEAVE=BAND\n",
      "Corner Coordinates:\n",
      "Upper Left  (  823180.000, 9773375.657) ( 54d 5'42.25\"W,  2d 2'51.66\"S)\n",
      "Lower Left  (  823180.000, 9648368.792) ( 54d 5'32.90\"W,  3d10'37.81\"S)\n",
      "Upper Right (  948186.747, 9773375.657) ( 52d58'22.95\"W,  2d 2'42.87\"S)\n",
      "Lower Right (  948186.747, 9648368.792) ( 52d58'10.00\"W,  3d10'24.17\"S)\n",
      "Center      (  885683.373, 9710872.225) ( 53d31'57.03\"W,  2d36'39.59\"S)\n",
      "Band 1 Block=512x512 Type=Byte, ColorInterp=Gray\n",
      "  Minimum=1.000, Maximum=7.000, Mean=3.631, StdDev=1.289\n",
      "  NoData Value=255\n",
      "  Metadata:\n",
      "    STATISTICS_MAXIMUM=7\n",
      "    STATISTICS_MEAN=3.6310772051598\n",
      "    STATISTICS_MINIMUM=1\n",
      "    STATISTICS_STDDEV=1.2888207251224\n",
      "    STATISTICS_VALID_PERCENT=3.744\n"
     ]
    }
   ],
   "source": [
    "!gdalinfo -stats lamina_A010050_20220810T211048.tif"
   ]
  },
  {
   "cell_type": "code",
   "execution_count": 17,
   "id": "a656a83d",
   "metadata": {},
   "outputs": [],
   "source": [
    "del ds  #Liberando memória"
   ]
  },
  {
   "cell_type": "code",
   "execution_count": 19,
   "id": "764b46d7",
   "metadata": {},
   "outputs": [
    {
     "name": "stdout",
     "output_type": "stream",
     "text": [
      "Band1, min=1.000, max=7.000, mean=3.631, stddev=1.289\n"
     ]
    }
   ],
   "source": [
    "for i in range(1, ds.RasterCount+1):\n",
    "        band = ds.GetRasterBand(i)\n",
    "        (minimun, maximun, mean, stddev) = band.ComputeStatistics(False)\n",
    "        print('Band{:d}, min={:.3f}, max={:.3f}, mean={:.3f}, stddev={:.3f}'.format(i, minimun, maximun, mean, stddev))"
   ]
  },
  {
   "cell_type": "code",
   "execution_count": 20,
   "id": "c6a9dd25",
   "metadata": {},
   "outputs": [],
   "source": [
    "band = ds.GetRasterBand(1)"
   ]
  },
  {
   "cell_type": "code",
   "execution_count": 22,
   "id": "c66cdfac",
   "metadata": {},
   "outputs": [
    {
     "data": {
      "text/plain": [
       "array([[255, 255, 255, ..., 255, 255, 255],\n",
       "       [255, 255, 255, ..., 255, 255, 255],\n",
       "       [255, 255, 255, ..., 255, 255, 255],\n",
       "       ...,\n",
       "       [255, 255, 255, ..., 255, 255, 255],\n",
       "       [255, 255, 255, ..., 255, 255, 255],\n",
       "       [255, 255, 255, ..., 255, 255, 255]], dtype=uint8)"
      ]
     },
     "execution_count": 22,
     "metadata": {},
     "output_type": "execute_result"
    }
   ],
   "source": [
    "data = band.ReadAsArray()\n",
    "data"
   ]
  },
  {
   "cell_type": "code",
   "execution_count": 23,
   "id": "a0706bd3",
   "metadata": {},
   "outputs": [
    {
     "data": {
      "text/plain": [
       "<matplotlib.image.AxesImage at 0x1ecaff59090>"
      ]
     },
     "execution_count": 23,
     "metadata": {},
     "output_type": "execute_result"
    },
    {
     "data": {
      "image/png": "[encoded data removed]",
      "text/plain": [
       "<Figure size 640x480 with 1 Axes>"
      ]
     },
     "metadata": {},
     "output_type": "display_data"
    }
   ],
   "source": [
    "plt.imshow(data, cmap='gray')"
   ]
  },
  {
   "cell_type": "code",
   "execution_count": null,
   "id": "b0cd73a4",
   "metadata": {},
   "outputs": [],
   "source": []
  }
 ],
 "metadata": {
  "kernelspec": {
   "display_name": "Python 3 (ipykernel)",
   "language": "python",
   "name": "python3"
  },
  "language_info": {
   "codemirror_mode": {
    "name": "ipython",
    "version": 3
   },
   "file_extension": ".py",
   "mimetype": "text/x-python",
   "name": "python",
   "nbconvert_exporter": "python",
   "pygments_lexer": "ipython3",
   "version": "3.10.6"
  }
 },
 "nbformat": 4,
 "nbformat_minor": 5
}
